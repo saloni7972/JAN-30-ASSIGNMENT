{
 "cells": [
  {
   "cell_type": "markdown",
   "id": "fddad327-7996-4253-88cb-134ce8fa0342",
   "metadata": {},
   "source": [
    "JAN 30 ASSIGNMENT"
   ]
  },
  {
   "cell_type": "markdown",
   "id": "af1d6547-29db-4584-9461-cabd6ed9baf4",
   "metadata": {},
   "source": [
    "q.1 Write a programmto accept percentage of the user and display the grade according to the following criteria.\n",
    "    marks :>90 ,>80 and <=90 ,>=60 and <=80 , below 60\n",
    "    Grade : A,B,C,D"
   ]
  },
  {
   "cell_type": "code",
   "execution_count": null,
   "id": "9c3e0f29-282e-45ff-9847-da65465576ca",
   "metadata": {},
   "outputs": [],
   "source": [
    "if marks>90:\n",
    "    print(\"you will be a part of A batch\")\n",
    "     elif marks>80 and marks<=90:\n",
    "    print(\"you will be a part of B batch\")\n",
    "     elif marks>=60 and marks<=80:\n",
    "        print(\"you will be a part of C batch\")\n",
    "        else:\n",
    "            print(\"you will be a part of D batch\")"
   ]
  },
  {
   "cell_type": "markdown",
   "id": "1884efbe-67ce-46a9-b526-64c5c84a5256",
   "metadata": {},
   "source": [
    "Q.2 Write a program to accept the cost price of a bike and road tax to be paid according to the criteria.\n",
    "tax:15% , 10% , 5%\n",
    "cp(Rs): >100000 , >50000 and <=100000 , <=50000"
   ]
  },
  {
   "cell_type": "code",
   "execution_count": null,
   "id": "7e654944-3bb8-47eb-8b40-2a2eb000aa1a",
   "metadata": {},
   "outputs": [],
   "source": [
    "cp=float(input(\"Enter the cp of bike:\"))\n",
    "if cp>100000:\n",
    "    t=0.15\n",
    "    elif cp>50000 and cp<=100000:\n",
    "        t=0.10\n",
    "        elif cp<=50000:\n",
    "            t=0.5\n",
    "            rt=cp*t\n",
    "            print(rt,\"is the road tax to be paid.\")"
   ]
  },
  {
   "cell_type": "code",
   "execution_count": null,
   "id": "e14335cc-55a0-4da3-8b64-c6157f411209",
   "metadata": {},
   "outputs": [],
   "source": []
  },
  {
   "cell_type": "markdown",
   "id": "6d9a1ce2-d826-4193-b01b-097a2b9b1a9a",
   "metadata": {},
   "source": [
    "Q.3 Accept any city from the user and display monuments of that city.\n",
    "city: Delhi , Agra , Jaipur\n",
    "monument: Red fort , Taj Mahal , Tal Mahal"
   ]
  },
  {
   "cell_type": "code",
   "execution_count": null,
   "id": "0fd6056e-2c52-4db9-98a5-3be60c1f090b",
   "metadata": {},
   "outputs": [],
   "source": [
    "city=input(\"Enter a city\")\n",
    "if city.upper()==\"DELHI\":\n",
    "    print(\"Red fort\")\n",
    "       elif city.upper()==\"AGRA\":\n",
    "        print(\"Taj Mahal\")\n",
    "        elif city.upper()==\"JAIPUR\":\n",
    "            print(\"Jal Mahal\")\n",
    "            else:\n",
    "                print(\"Enter a valid city\")"
   ]
  },
  {
   "cell_type": "markdown",
   "id": "c7822f8c-3ae5-477c-add9-36f9ffaed6a4",
   "metadata": {},
   "source": [
    "Q.5 Why and when to use whilw loop give a detailed discription with example"
   ]
  },
  {
   "cell_type": "markdown",
   "id": "e986bc43-3e77-41a7-b5ae-ed1c630b8561",
   "metadata": {},
   "source": [
    "A while loop is used to repeat a specific block of code an unknown no. of times until a condition is met.\n",
    "eg. if we want to ask a no. between 1 to 10 we dont know how "
   ]
  },
  {
   "cell_type": "code",
   "execution_count": null,
   "id": "e1a11a0e-a019-44c1-a131-b00a2d5df127",
   "metadata": {},
   "outputs": [],
   "source": []
  }
 ],
 "metadata": {
  "kernelspec": {
   "display_name": "Python 3 (ipykernel)",
   "language": "python",
   "name": "python3"
  },
  "language_info": {
   "codemirror_mode": {
    "name": "ipython",
    "version": 3
   },
   "file_extension": ".py",
   "mimetype": "text/x-python",
   "name": "python",
   "nbconvert_exporter": "python",
   "pygments_lexer": "ipython3",
   "version": "3.10.8"
  }
 },
 "nbformat": 4,
 "nbformat_minor": 5
}
